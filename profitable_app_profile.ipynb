{
  "cells": [
    {
      "cell_type": "markdown",
      "metadata": {
        "id": "ZVeQ1VDjmuLh"
      },
      "source": [
        " <h1 align='center'> The most attractive app types for users</h1>\n",
        "\n"
      ]
    },
    {
      "cell_type": "markdown",
      "metadata": {
        "id": "y5TdqDvymuLl"
      },
      "source": [
        "> ### Introduction\n",
        "\n",
        " - **What is the project about?** \n",
        " \n",
        "    The project aims to analysis apps data to check what kind of free app is more attractive for users download and install in their devices.\n",
        " \n",
        " ---\n",
        " \n",
        " - **What is the project goal?**\n",
        " \n",
        "     Identifying what kind of app is more attractive for users we can focus on those apps to increase in-apps ads profit/revenue."
      ]
    },
    {
      "cell_type": "markdown",
      "metadata": {
        "id": "Xlqgp5FymuLo"
      },
      "source": [
        "> ### Project origin\n",
        "\n",
        "This project is a Guided Project: Profitable App Profiles for the App Store and Google Pay Markets from <a href=\"https://www.dataquest.io/\">Dataquest</a>\n",
        "    \n",
        "Despite being a guided project, it's a nice Data Science project to work with two different datasets, data cleaning, analysis and business intelligence."
      ]
    },
    {
      "cell_type": "markdown",
      "metadata": {
        "id": "CO9nyiZrmuLp"
      },
      "source": [
        "> ### Datasets\n",
        "\n",
        "* Google Play Apps - August, 2018([Download can be done here](https://dq-content.s3.amazonaws.com/350/googleplaystore.csv))\n",
        "\n",
        "* App Store Apps - July, 2017 ([Download can be done here](https://dq-content.s3.amazonaws.com/350/AppleStore.csv))"
      ]
    },
    {
      "cell_type": "code",
      "execution_count": null,
      "metadata": {
        "id": "pmCrSbQpmuLr"
      },
      "outputs": [],
      "source": [
        "### Defining a explore_data function to print rows and give \n",
        "### how many rows and cols the dataset has\n",
        "def explore_data(dataset, start, end, rows_and_columns=False):\n",
        "    dataset_slice = dataset[start:end]    \n",
        "    for row in dataset_slice:\n",
        "        print(row)\n",
        "        print('\\n') # adds a new (empty) line after each row\n",
        "\n",
        "    if rows_and_columns:\n",
        "        print('Number of rows:', len(dataset))\n",
        "        print('Number of columns:', len(dataset[0]))"
      ]
    },
    {
      "cell_type": "code",
      "execution_count": null,
      "metadata": {
        "scrolled": true,
        "id": "5nujZ6iKmuLt",
        "outputId": "5de62815-43d4-494d-9a11-a2979f5e1888"
      },
      "outputs": [
        {
          "name": "stdout",
          "output_type": "stream",
          "text": [
            "['Photo Editor & Candy Camera & Grid & ScrapBook', 'ART_AND_DESIGN', '4.1', '159', '19M', '10,000+', 'Free', '0', 'Everyone', 'Art & Design', 'January 7, 2018', '1.0.0', '4.0.3 and up']\n",
            "\n",
            "\n",
            "['Coloring book moana', 'ART_AND_DESIGN', '3.9', '967', '14M', '500,000+', 'Free', '0', 'Everyone', 'Art & Design;Pretend Play', 'January 15, 2018', '2.0.0', '4.0.3 and up']\n",
            "\n",
            "\n",
            "Number of rows: 10842\n",
            "Number of columns: 13\n",
            "\n",
            "\n",
            "['284882215', 'Facebook', '389879808', 'USD', '0.0', '2974676', '212', '3.5', '3.5', '95.0', '4+', 'Social Networking', '37', '1', '29', '1']\n",
            "\n",
            "\n",
            "['389801252', 'Instagram', '113954816', 'USD', '0.0', '2161558', '1289', '4.5', '4.0', '10.23', '12+', 'Photo & Video', '37', '0', '29', '1']\n",
            "\n",
            "\n",
            "Number of rows: 7198\n",
            "Number of columns: 16\n"
          ]
        }
      ],
      "source": [
        "### Opening csv files\n",
        "opened_android = open('googleplaystore.csv', encoding='utf8')\n",
        "opened_ios = open('AppleStore.csv', encoding='utf8')\n",
        "\n",
        "### Transforming to iterable object and then casting to \n",
        "### list of lists\n",
        "from csv import reader\n",
        "android = list(reader(opened_android))\n",
        "ios = list(reader(opened_ios))\n",
        "\n",
        "### Exploring data\n",
        "explore_data(android, 1, 3, True)\n",
        "print(\"\\n\")\n",
        "explore_data(ios, 1, 3, True)\n",
        "\n"
      ]
    },
    {
      "cell_type": "markdown",
      "metadata": {
        "id": "uEaqBE0OmuLu"
      },
      "source": [
        "### Play Store Apps dataset info (Android)\n",
        "---\n",
        "<a id=\"table-android\"></a>\n",
        "\n",
        "| Column Name | Description |\n",
        "| :----:      |  :----:     |\n",
        "| App | Application name|\n",
        "| Category | Category the app belongs to|\n",
        "| Rating | Overall user rating of the app|\n",
        "| Reviews | Number of user reviews for the app|\n",
        "| Size | Size of the app |\n",
        "| Installs | Number of user downloads/installs for the app|\n",
        "| Type | Paid or free|\n",
        "| Price | Price of the app|\n",
        "| Content rating| Age group the app is targeted at - Children/Mature 21+/Adult|\n",
        "| Genres | An app can belong to multiple genres (apart from its main category) |\n",
        "| Last Updated | Date when the app was last updated on Play Store |\n",
        "| Current Ver | Current version of the app on Play Store |\n",
        "| Android Ver | Min required Android version |\n",
        "\n",
        "\n",
        "* **Number of rows: 10842**\n",
        "* **Number of cols: 13**"
      ]
    },
    {
      "cell_type": "markdown",
      "metadata": {
        "id": "NYo3u52vmuLv"
      },
      "source": [
        "### App Store Apps dataset info (iOS)\n",
        "---\n",
        "<a id=\"table-ios\"></a>\n",
        "\n",
        "| Column name | Description |\n",
        "| :----:      | :----:      |\n",
        "| \"id\"| App ID|\n",
        "| \"track_name\"|App Name|\n",
        "| \"size_bytes\"|Size (in Bytes)|\n",
        "| \"currency\"|Currency Type|\n",
        "| \"price\"|Price amount|\n",
        "| \"ratingcounttot\"| User Rating counts (for all version)|\n",
        "| \"ratingcountver\"| User Rating counts (for current version)|\n",
        "| \"user_rating\"| Average User Rating value (for all version)|\n",
        "| \"userratingver\"| Average User Rating value (for current version)|\n",
        "| \"ver\"| Latest version code|\n",
        "| \"cont_rating\"| Content Rating|\n",
        "| \"prime_genre\"| Primary Genre |\n",
        "| \"sup_devices.num\"| Number of supporting devices |\n",
        "| \"ipadSc_urls.num\"| Number of screenshots showed for display|\n",
        "| \"lang.num\"| Number of supported languages|\n",
        "| \"vpp_lic\"| Vpp Device Based Licensing Enabled|\n",
        "| \"id\" | App ID|\n",
        "\n",
        "* **Number of rows: 7198**\n",
        "* **Number of cols: 16**"
      ]
    },
    {
      "cell_type": "markdown",
      "metadata": {
        "id": "0kTuujVUmuLw"
      },
      "source": [
        "* In Play Store apps dataset, row index 10473 has missing value and misplaced columns as we can see below:"
      ]
    },
    {
      "cell_type": "code",
      "execution_count": null,
      "metadata": {
        "scrolled": true,
        "id": "3HLdZoz5muLx",
        "outputId": "2d38a6be-e76a-4309-931b-8605440c0854"
      },
      "outputs": [
        {
          "name": "stdout",
          "output_type": "stream",
          "text": [
            "['Jazz Wi-Fi', 'COMMUNICATION', '3.4', '49', '4.0M', '10,000+', 'Free', '0', 'Everyone', 'Communication', 'February 10, 2017', '0.1', '2.3 and up']\n",
            "\n",
            "\n",
            "['Xposed Wi-Fi-Pwd', 'PERSONALIZATION', '3.5', '1042', '404k', '100,000+', 'Free', '0', 'Everyone', 'Personalization', 'August 5, 2014', '3.0.0', '4.0.3 and up']\n",
            "\n",
            "\n",
            "-> ['Life Made WI-Fi Touchscreen Photo Frame', '1.9', '19', '3.0M', '1,000+', 'Free', '0', 'Everyone', '', 'February 11, 2018', '1.0.19', '4.0 and up']\n",
            "\n",
            "\n",
            "['osmino Wi-Fi: free WiFi', 'TOOLS', '4.2', '134203', '4.1M', '10,000,000+', 'Free', '0', 'Everyone', 'Tools', 'August 7, 2018', '6.06.14', '4.4 and up']\n"
          ]
        }
      ],
      "source": [
        "print(android[10471])\n",
        "print(\"\\n\")\n",
        "print(android[10472])\n",
        "print(\"\\n\")\n",
        "print(\"->\", android[10473])\n",
        "print(\"\\n\")\n",
        "print(android[10474])"
      ]
    },
    {
      "cell_type": "markdown",
      "metadata": {
        "id": "hZaGTsRSmuLy"
      },
      "source": [
        "* To fix this issue we need to remove the data linked to this index"
      ]
    },
    {
      "cell_type": "code",
      "execution_count": null,
      "metadata": {
        "id": "ScbiQ_RymuLz",
        "outputId": "ec3d6a0d-d5f5-454e-d898-a4e0922b67e3"
      },
      "outputs": [
        {
          "name": "stdout",
          "output_type": "stream",
          "text": [
            "Old value at [10473] -> ['Life Made WI-Fi Touchscreen Photo Frame', '1.9', '19', '3.0M', '1,000+', 'Free', '0', 'Everyone', '', 'February 11, 2018', '1.0.19', '4.0 and up'] \n",
            "\n",
            "New value at [10473] -> ['osmino Wi-Fi: free WiFi', 'TOOLS', '4.2', '134203', '4.1M', '10,000,000+', 'Free', '0', 'Everyone', 'Tools', 'August 7, 2018', '6.06.14', '4.4 and up']\n"
          ]
        }
      ],
      "source": [
        "\"\"\" \n",
        "Removing index 10473\n",
        "\n",
        "First, let's print to check the values at index 10473, \n",
        "and then, after removing it, let's print again. \n",
        "\"\"\"\n",
        "print(\"Old value at [10473] ->\", android[10473],'\\n')\n",
        "del android[10473]\n",
        "print(\"New value at [10473] ->\", android[10473])"
      ]
    },
    {
      "cell_type": "markdown",
      "metadata": {
        "id": "Tr5POf8smuL0"
      },
      "source": [
        "### Creating a function to check whether the dataset has duplicated rows or not"
      ]
    },
    {
      "cell_type": "markdown",
      "metadata": {
        "id": "AOg6CmvLmuL1"
      },
      "source": [
        "* The function will receive a dataset and a indexCol as argument and will return a list of app's names that are duplicated. If the list gets a `len()` == 0, it means that doesn't have duplicated rows\n",
        "\n",
        "\n",
        "* It checks for duplicated rows based on indexCol passed as argument. For our purpose, we'll be using app's name column (Android - 'App' - index 0; iOS - 'track_name' - index 1)"
      ]
    },
    {
      "cell_type": "code",
      "execution_count": null,
      "metadata": {
        "id": "YZxS7siQmuL1"
      },
      "outputs": [],
      "source": [
        "def checkDuplicatedRows(dataset, indexCol):\n",
        "    duplicatedApps = []\n",
        "    uniqueApps = []\n",
        "    \n",
        "    for row in dataset[1:]:        \n",
        "        app_name = row[indexCol]\n",
        "        \n",
        "        if(app_name in uniqueApps):\n",
        "            duplicatedApps.append(app_name)\n",
        "        else:\n",
        "            uniqueApps.append(app_name)\n",
        "    \n",
        "    return [duplicatedApps, uniqueApps]"
      ]
    },
    {
      "cell_type": "code",
      "execution_count": null,
      "metadata": {
        "id": "Wxf3WV9PmuL2",
        "outputId": "4251009b-bdfc-471f-d0ad-e3eb7bdb50cc"
      },
      "outputs": [
        {
          "name": "stdout",
          "output_type": "stream",
          "text": [
            "Duplicated rows size: 1181\n",
            "\n",
            "\n",
            "Some examples of repeated app's entry: ['Quick PDF Scanner + OCR FREE', 'Box', 'Google My Business', 'ZOOM Cloud Meetings', 'join.me - Simple Meetings', 'Box', 'Zenefits', 'Google Ads', 'Google My Business', 'Slack']\n"
          ]
        }
      ],
      "source": [
        "android_apps = checkDuplicatedRows(android, 0)\n",
        "print(\"Duplicated rows size:\",len(android_apps[0]))\n",
        "print(\"\\n\")\n",
        "print(\"Some examples of repeated app's entry:\", android_apps[0][:10])"
      ]
    },
    {
      "cell_type": "code",
      "execution_count": null,
      "metadata": {
        "scrolled": true,
        "id": "XOe-YOImmuL3",
        "outputId": "093fdb9a-2fc0-42a4-f453-a54d259735cf"
      },
      "outputs": [
        {
          "name": "stdout",
          "output_type": "stream",
          "text": [
            "Duplicated rows size: 2\n",
            "\n",
            "\n",
            "Some examples of repeated app's entry: ['Mannequin Challenge', 'VR Roller Coaster']\n"
          ]
        }
      ],
      "source": [
        "ios_apps = checkDuplicatedRows(ios, 1)\n",
        "print(\"Duplicated rows size:\",len(ios_apps[0]))\n",
        "print(\"\\n\")\n",
        "print(\"Some examples of repeated app's entry:\", ios_apps[0])"
      ]
    },
    {
      "cell_type": "markdown",
      "metadata": {
        "id": "5jDwcf3dmuL4"
      },
      "source": [
        "* ### Criterion for duplicated rows (iOS dataset)\n",
        "\n",
        "Below we can see the repeated rows/apps"
      ]
    },
    {
      "cell_type": "code",
      "execution_count": null,
      "metadata": {
        "scrolled": true,
        "id": "zLr4YaNmmuL4",
        "outputId": "5c5f1296-9fbf-4aef-eaba-901b00138306"
      },
      "outputs": [
        {
          "name": "stdout",
          "output_type": "stream",
          "text": [
            "iOS apps header: ['id', 'track_name', 'size_bytes', 'currency', 'price', 'rating_count_tot', 'rating_count_ver', 'user_rating', 'user_rating_ver', 'ver', 'cont_rating', 'prime_genre', 'sup_devices.num', 'ipadSc_urls.num', 'lang.num', 'vpp_lic'] \n",
            "\n",
            "['1173990889', 'Mannequin Challenge', '109705216', 'USD', '0.0', '668', '87', '3.0', '3.0', '1.4', '9+', 'Games', '37', '4', '1', '1'] \n",
            "\n",
            "['952877179', 'VR Roller Coaster', '169523200', 'USD', '0.0', '107', '102', '3.5', '3.5', '2.0.0', '4+', 'Games', '37', '5', '1', '1'] \n",
            "\n",
            "['1178454060', 'Mannequin Challenge', '59572224', 'USD', '0.0', '105', '58', '4.0', '4.5', '1.0.1', '4+', 'Games', '38', '5', '1', '1'] \n",
            "\n",
            "['1089824278', 'VR Roller Coaster', '240964608', 'USD', '0.0', '67', '44', '3.5', '4.0', '0.81', '4+', 'Games', '38', '0', '1', '1'] \n",
            "\n"
          ]
        }
      ],
      "source": [
        "repeated_names = ['Mannequin Challenge', 'VR Roller Coaster']\n",
        "print(\"iOS apps header:\", ios[0], \"\\n\")\n",
        "\n",
        "\n",
        "for app in ios:\n",
        "    name = app[1]    \n",
        "    if(name in repeated_names):\n",
        "        print(app, \"\\n\")"
      ]
    },
    {
      "cell_type": "markdown",
      "metadata": {
        "id": "BWH2FHZImuL5"
      },
      "source": [
        "For this case we can use 'ver' column (Version) to check which app is the most recent and then we'll be able to create a cleaned dataset. Steps to accomplish this:\n",
        "\n",
        "* Find the 'ver' column index.\n",
        "\n",
        "\n",
        "* Loop through dataset and compare those apps to see which one have the latest version.\n",
        "\n",
        "\n",
        "* **(!)** Here we used some trick with regex to get some part of version string. Some version string is formatted as 'x.x.x' so these '.' throws a error when casting to float. Using regex we were able to get only the first two digits and cast it to float type to do some comparision.\n",
        "\n",
        "\n",
        "* After identifying which app has the latest version, we save it to a dict to append to ios_clean list using `extend()` function. `extend()` allow us to add multiple values to a list."
      ]
    },
    {
      "cell_type": "code",
      "execution_count": null,
      "metadata": {
        "id": "vzCmLIJemuL6",
        "outputId": "0886c215-7b5a-4310-f84d-44132beba02e"
      },
      "outputs": [
        {
          "name": "stdout",
          "output_type": "stream",
          "text": [
            "1.4\n",
            "2.0\n",
            "1.0\n",
            "0.8\n",
            "{'Mannequin Challenge': 1.4, 'VR Roller Coaster': 2.0}\n",
            "\n",
            "\n",
            "{'Mannequin Challenge': ['1173990889', 'Mannequin Challenge', '109705216', 'USD', '0.0', '668', '87', '3.0', '3.0', '1.4', '9+', 'Games', '37', '4', '1', '1'], 'VR Roller Coaster': ['952877179', 'VR Roller Coaster', '169523200', 'USD', '0.0', '107', '102', '3.5', '3.5', '2.0.0', '4+', 'Games', '37', '5', '1', '1']}\n",
            "\n",
            "\n",
            "['952877179', 'VR Roller Coaster', '169523200', 'USD', '0.0', '107', '102', '3.5', '3.5', '2.0.0', '4+', 'Games', '37', '5', '1', '1']\n",
            "['1173990889', 'Mannequin Challenge', '109705216', 'USD', '0.0', '668', '87', '3.0', '3.0', '1.4', '9+', 'Games', '37', '4', '1', '1']\n",
            "['977965019', 'みんなのお弁当 by クックパッド ~お弁当をレシピ付きで記録・共有~', '51174400', 'USD', '0.0', '0', '0', '0.0', '0.0', '1.4.0', '4+', 'Food & Drink', '37', '0', '1', '1']\n"
          ]
        }
      ],
      "source": [
        "ver_index = ios[0].index('ver')\n",
        "ios_clean = []\n",
        "correct_rows = {}\n",
        "latest_version = {}\n",
        "\n",
        "\n",
        "import re\n",
        "\n",
        "for app in ios[1:]:\n",
        "    name = app[1]\n",
        "    \n",
        "    if(name in repeated_names):\n",
        "        \n",
        "        '''\n",
        "        Little hack here:\n",
        "            Using regex to get part of string version that can\n",
        "            be casted to float\n",
        "        '''\n",
        "        result = re.search('\\d.\\d', app[ver_index])\n",
        "        print(result.group())\n",
        "        \n",
        "        version = float(result.group())\n",
        "        \n",
        "        # If name already exists but value version is < \n",
        "        # Set new version value to key and update var version value\n",
        "        if(name in latest_version and \n",
        "           latest_version[name] < version):            \n",
        "            latest_version[name] = version\n",
        "            correct_version[name] = app\n",
        "            version = 0\n",
        "            \n",
        "        # If name already exists but value version is >\n",
        "        # Keep key-value and update var version value\n",
        "        elif(name in latest_version and\n",
        "            latest_version[name] > version):\n",
        "            version = 0\n",
        "            \n",
        "        # Else (it does not exist yet)\n",
        "        # just add to dict\n",
        "        else:\n",
        "            latest_version[name] = version\n",
        "            correct_rows[name] = app\n",
        "    else:\n",
        "        ios_clean.append(app)\n",
        "            \n",
        "print(latest_version)\n",
        "print(\"\\n\")\n",
        "print(correct_rows)\n",
        "print(\"\\n\")\n",
        "\n",
        "ios_clean.extend(list(correct_rows.values()))\n",
        "print(ios_clean[-1])\n",
        "print(ios_clean[-2])\n",
        "print(ios_clean[-3])\n",
        "            "
      ]
    },
    {
      "cell_type": "markdown",
      "metadata": {
        "id": "NehGF_3vmuL6"
      },
      "source": [
        "* ### Criterion for duplicated rows (Android dataset)\n",
        "\n",
        "It's not a good practice just removing duplicated rows. We need to apply some criterions to determine which rows/registries keep for our analysis. Therefore, looking at datasets' info tables we could assume some signifcant column to guide us removing duplicated rows.\n",
        "\n",
        "For Android analysis, we'll be using 'Review' column to remove the duplicated rows. The higher the number of reviews, the more recent the data should be.  "
      ]
    },
    {
      "cell_type": "code",
      "execution_count": null,
      "metadata": {
        "id": "V7luGWFomuL7",
        "outputId": "8d83925f-5b24-4a57-cf10-ff5b230ba075"
      },
      "outputs": [
        {
          "name": "stdout",
          "output_type": "stream",
          "text": [
            "Android dataset 'Review' column index: 3\n",
            "Dictionary size after Review column cleaning: 9659\n",
            "\n",
            "\n",
            "Size android dataset: 10840\n",
            "Size android duplicated rows: 1181\n",
            "Correct size after cleaning will be: 9659.0\n"
          ]
        }
      ],
      "source": [
        "print(\"Android dataset 'Review' column index:\", \n",
        "      android[0].index('Reviews'))\n",
        "\n",
        "reviews_max = {}\n",
        "\n",
        "for app in android[1:]:\n",
        "    \n",
        "    name = app[0] # getting app's name\n",
        "    n_reviews = float(app[3]) # getting app's review\n",
        "    \n",
        "    if(name in reviews_max and reviews_max[name] < n_reviews):\n",
        "        reviews_max[name] = n_reviews\n",
        "        \n",
        "    elif(name not in reviews_max):\n",
        "        reviews_max[name] = n_reviews\n",
        "\n",
        "print(\"Dictionary size after Review column cleaning:\", len(reviews_max))  \n",
        "print(\"\\n\")\n",
        "print(\"Size android dataset:\",\n",
        "      len(android[1:]))\n",
        "print(\"Size android duplicated rows:\",\n",
        "      len(android_apps[0]))\n",
        "correct_size = float(len(android[1:])-len(android_apps[0]))\n",
        "print(\"Correct size after cleaning will be:\", correct_size)"
      ]
    },
    {
      "cell_type": "code",
      "execution_count": null,
      "metadata": {
        "id": "_Tm2ntrEmuL8",
        "outputId": "e1e95475-2058-4ec2-bf6c-03c327cec927"
      },
      "outputs": [
        {
          "name": "stdout",
          "output_type": "stream",
          "text": [
            "android_clean size: 9659 rows\n"
          ]
        }
      ],
      "source": [
        "android_clean = []\n",
        "already_added = []\n",
        "\n",
        "for app in android[1:]:\n",
        "    name = app[0]\n",
        "    n_reviews = float(app[3])\n",
        "    \"\"\"\n",
        "    It's necessary to add app's name to already_added list if it is\n",
        "    not in there yet because we can get some duplicated rows that \n",
        "    havethe same Reviews column value and it would make us add a \n",
        "    value twice in our android_clean list\n",
        "    \"\"\"\n",
        "    if(n_reviews == reviews_max[name] and \n",
        "      name not in already_added):\n",
        "        \n",
        "        android_clean.append(app)\n",
        "        already_added.append(name)\n",
        "\n",
        "### After cleaning, android_clean list should have 9,659 rows\n",
        "print(\"android_clean size:\", len(android_clean), \"rows\")"
      ]
    },
    {
      "cell_type": "markdown",
      "metadata": {
        "id": "uSCvyEn4muL9"
      },
      "source": [
        " ### Writing a function that checks if a app name is from english alphabet or not \n",
        "\n",
        "\n",
        "* Based on ASCII table, any char value over 127 doesn't belong to English alphabet\n",
        "\n",
        "\n",
        "* Our function should be able to take a string as parameter and looping through it check if any char is > 127\n",
        "\n",
        "\n",
        "* The function should be able to tolerate some emojis in app's name. Here we can consider until 3 times. "
      ]
    },
    {
      "cell_type": "code",
      "execution_count": null,
      "metadata": {
        "scrolled": true,
        "id": "GQQaCG8xmuL-",
        "outputId": "b935452b-5ef3-4fad-e43d-5472167ba14b"
      },
      "outputs": [
        {
          "name": "stdout",
          "output_type": "stream",
          "text": [
            "True\n",
            "False\n",
            "True\n",
            "True\n"
          ]
        }
      ],
      "source": [
        "def check_english_alpha(string):\n",
        "    count_tolerate = 0\n",
        "    for ch in string:\n",
        "        if(ord(ch) > 127): \n",
        "            count_tolerate += 1\n",
        "            if(count_tolerate == 3):\n",
        "                return False\n",
        "    return True\n",
        "\n",
        "### Time to validate the function with some data test\n",
        "test = ['Instagram', \n",
        "        '爱奇艺PPS -《欢乐颂2》电视剧热播', \n",
        "        'Docs To Go™ Free Office Suite',\n",
        "        'Instachat 😜']\n",
        "\n",
        "for data in test:\n",
        "    print(check_english_alpha(data))\n",
        "    "
      ]
    },
    {
      "cell_type": "markdown",
      "metadata": {
        "id": "_5oZLDKMmuL_"
      },
      "source": [
        "After testing the function that will indicate which apps are in english and see that it's working, let's use on datasets!"
      ]
    },
    {
      "cell_type": "code",
      "execution_count": null,
      "metadata": {
        "id": "w-6Ow79SmuL_",
        "outputId": "1f0391af-2ac1-44db-f9d2-439bbe169ba3"
      },
      "outputs": [
        {
          "name": "stdout",
          "output_type": "stream",
          "text": [
            "iOS app name index: 1\n",
            "Cleaned iOS dataset all apps names: 7195\n",
            "Cleaned + English iOS dataset: 6153\n",
            "[['284882215', 'Facebook', '389879808', 'USD', '0.0', '2974676', '212', '3.5', '3.5', '95.0', '4+', 'Social Networking', '37', '1', '29', '1'], ['389801252', 'Instagram', '113954816', 'USD', '0.0', '2161558', '1289', '4.5', '4.0', '10.23', '12+', 'Photo & Video', '37', '0', '29', '1']]\n",
            "[['284882215', 'Facebook', '389879808', 'USD', '0.0', '2974676', '212', '3.5', '3.5', '95.0', '4+', 'Social Networking', '37', '1', '29', '1'], ['389801252', 'Instagram', '113954816', 'USD', '0.0', '2161558', '1289', '4.5', '4.0', '10.23', '12+', 'Photo & Video', '37', '0', '29', '1']]\n"
          ]
        }
      ],
      "source": [
        "### iOS \n",
        "print('iOS app name index:', ios[0].index('track_name'))\n",
        "ios_clean_english = []\n",
        "for app in ios_clean:\n",
        "    name = app[1]\n",
        "    english_name = check_english_alpha(name)\n",
        "    if(english_name):\n",
        "        ios_clean_english.append(app)\n",
        "        \n",
        "print(\"Cleaned iOS dataset all apps names:\", len(ios_clean))\n",
        "print(\"Cleaned + English iOS dataset:\", len(ios_clean_english))\n",
        "print('\\n')\n",
        "print(ios_clean_english[0:2])\n",
        "print(ios_clean[0:2])"
      ]
    },
    {
      "cell_type": "code",
      "execution_count": null,
      "metadata": {
        "id": "f5C_Pka3muMA",
        "outputId": "ef4794ff-fc37-42d7-f473-11872d469270"
      },
      "outputs": [
        {
          "name": "stdout",
          "output_type": "stream",
          "text": [
            "android app name index: 0\n",
            "Cleaned android dataset all apps names: 9659\n",
            "Cleaned + English android dataset: 9659\n",
            "[['Photo Editor & Candy Camera & Grid & ScrapBook', 'ART_AND_DESIGN', '4.1', '159', '19M', '10,000+', 'Free', '0', 'Everyone', 'Art & Design', 'January 7, 2018', '1.0.0', '4.0.3 and up'], ['U Launcher Lite – FREE Live Cool Themes, Hide Apps', 'ART_AND_DESIGN', '4.7', '87510', '8.7M', '5,000,000+', 'Free', '0', 'Everyone', 'Art & Design', 'August 1, 2018', '1.2.4', '4.0.3 and up']]\n",
            "[['Photo Editor & Candy Camera & Grid & ScrapBook', 'ART_AND_DESIGN', '4.1', '159', '19M', '10,000+', 'Free', '0', 'Everyone', 'Art & Design', 'January 7, 2018', '1.0.0', '4.0.3 and up'], ['U Launcher Lite – FREE Live Cool Themes, Hide Apps', 'ART_AND_DESIGN', '4.7', '87510', '8.7M', '5,000,000+', 'Free', '0', 'Everyone', 'Art & Design', 'August 1, 2018', '1.2.4', '4.0.3 and up']]\n"
          ]
        }
      ],
      "source": [
        "### Android\n",
        "print('android app name index:', android[0].index('App'))\n",
        "android_clean_english = []\n",
        "for app in android_clean:\n",
        "    name = app[1]\n",
        "    english_name = check_english_alpha(name)\n",
        "    if(english_name):\n",
        "        android_clean_english.append(app)\n",
        "        \n",
        "print(\"Cleaned android dataset all apps names:\", len(android_clean))\n",
        "print(\"Cleaned + English android dataset:\", len(android_clean_english))\n",
        "print('\\n')\n",
        "print(android_clean[0:2])\n",
        "print(android_clean_english[0:2])"
      ]
    },
    {
      "cell_type": "markdown",
      "metadata": {
        "id": "OzX6psj-muMA"
      },
      "source": [
        "### Isolating only free apps for analysis"
      ]
    },
    {
      "cell_type": "code",
      "execution_count": null,
      "metadata": {
        "id": "yEpAL5RTmuMB",
        "outputId": "82f132ec-f2b5-49b0-c7d7-2439e59c12b7"
      },
      "outputs": [
        {
          "name": "stdout",
          "output_type": "stream",
          "text": [
            "['284882215', 'Facebook', '389879808', 'USD', '0.0', '2974676', '212', '3.5', '3.5', '95.0', '4+', 'Social Networking', '37', '1', '29', '1']\n",
            "\n",
            "\n",
            "['389801252', 'Instagram', '113954816', 'USD', '0.0', '2161558', '1289', '4.5', '4.0', '10.23', '12+', 'Photo & Video', '37', '0', '29', '1']\n",
            "\n",
            "\n",
            "['529479190', 'Clash of Clans', '116476928', 'USD', '0.0', '2130805', '579', '4.5', '4.5', '9.24.12', '9+', 'Games', '38', '5', '18', '1']\n",
            "\n",
            "\n",
            "['420009108', 'Temple Run', '65921024', 'USD', '0.0', '1724546', '3842', '4.5', '4.0', '1.6.2', '9+', 'Games', '40', '5', '1', '1']\n",
            "\n",
            "\n",
            "['284035177', 'Pandora - Music & Radio', '130242560', 'USD', '0.0', '1126879', '3594', '4.0', '4.5', '8.4.1', '12+', 'Music', '37', '4', '1', '1']\n",
            "\n",
            "\n",
            "['429047995', 'Pinterest', '74778624', 'USD', '0.0', '1061624', '1814', '4.5', '4.0', '6.26', '12+', 'Social Networking', '37', '5', '27', '1']\n",
            "\n",
            "\n",
            "Number of rows: 3201\n",
            "Number of columns: 16\n"
          ]
        }
      ],
      "source": [
        "### iOS\n",
        "\n",
        "ios_free_apps = []\n",
        "price_index = ios[0].index('price')\n",
        "\n",
        "for app in ios_clean_english:\n",
        "    price = app[price_index]\n",
        "    # Making sure that any variation of free/0/0.0 is acceptable\n",
        "    if(price == '0' or price == '0.0'or price == 'free'):\n",
        "        ios_free_apps.append(app)\n",
        "\n",
        "explore_data(ios_free_apps, 0, 6, True)"
      ]
    },
    {
      "cell_type": "code",
      "execution_count": null,
      "metadata": {
        "scrolled": true,
        "id": "VvOSdTypmuMB",
        "outputId": "6dfbaa91-397e-4563-e52b-bcd3d9c76735"
      },
      "outputs": [
        {
          "name": "stdout",
          "output_type": "stream",
          "text": [
            "['Photo Editor & Candy Camera & Grid & ScrapBook', 'ART_AND_DESIGN', '4.1', '159', '19M', '10,000+', 'Free', '0', 'Everyone', 'Art & Design', 'January 7, 2018', '1.0.0', '4.0.3 and up']\n",
            "\n",
            "\n",
            "['U Launcher Lite – FREE Live Cool Themes, Hide Apps', 'ART_AND_DESIGN', '4.7', '87510', '8.7M', '5,000,000+', 'Free', '0', 'Everyone', 'Art & Design', 'August 1, 2018', '1.2.4', '4.0.3 and up']\n",
            "\n",
            "\n",
            "['Sketch - Draw & Paint', 'ART_AND_DESIGN', '4.5', '215644', '25M', '50,000,000+', 'Free', '0', 'Teen', 'Art & Design', 'June 8, 2018', 'Varies with device', '4.2 and up']\n",
            "\n",
            "\n",
            "['Pixel Draw - Number Art Coloring Book', 'ART_AND_DESIGN', '4.3', '967', '2.8M', '100,000+', 'Free', '0', 'Everyone', 'Art & Design;Creativity', 'June 20, 2018', '1.1', '4.4 and up']\n",
            "\n",
            "\n",
            "['Paper flowers instructions', 'ART_AND_DESIGN', '4.4', '167', '5.6M', '50,000+', 'Free', '0', 'Everyone', 'Art & Design', 'March 26, 2017', '1.0', '2.3 and up']\n",
            "\n",
            "\n",
            "['Smoke Effect Photo Maker - Smoke Editor', 'ART_AND_DESIGN', '3.8', '178', '19M', '50,000+', 'Free', '0', 'Everyone', 'Art & Design', 'April 26, 2018', '1.1', '4.0.3 and up']\n",
            "\n",
            "\n",
            "['Infinite Painter', 'ART_AND_DESIGN', '4.1', '36815', '29M', '1,000,000+', 'Free', '0', 'Everyone', 'Art & Design', 'June 14, 2018', '6.1.61.1', '4.2 and up']\n",
            "\n",
            "\n",
            "['Garden Coloring Book', 'ART_AND_DESIGN', '4.4', '13791', '33M', '1,000,000+', 'Free', '0', 'Everyone', 'Art & Design', 'September 20, 2017', '2.9.2', '3.0 and up']\n",
            "\n",
            "\n",
            "['Kids Paint Free - Drawing Fun', 'ART_AND_DESIGN', '4.7', '121', '3.1M', '10,000+', 'Free', '0', 'Everyone', 'Art & Design;Creativity', 'July 3, 2018', '2.8', '4.0.3 and up']\n",
            "\n",
            "\n",
            "['Text on Photo - Fonteee', 'ART_AND_DESIGN', '4.4', '13880', '28M', '1,000,000+', 'Free', '0', 'Everyone', 'Art & Design', 'October 27, 2017', '1.0.4', '4.1 and up']\n",
            "\n",
            "\n",
            "Number of rows: 8904\n",
            "Number of columns: 13\n"
          ]
        }
      ],
      "source": [
        "### Android\n",
        "\n",
        "android_free_apps = []\n",
        "# Type columns shows if an app is Free or paid\n",
        "price_index = android[0].index('Type')\n",
        "\n",
        "for app in android_clean_english:\n",
        "    price = app[price_index]\n",
        "    # Making sure that any variation of free is acceptable (ignore.case == True)\n",
        "    if( re.search('free', price, re.IGNORECASE) ):\n",
        "        android_free_apps.append(app)\n",
        "        \n",
        "\n",
        "explore_data(android_free_apps, 0, 10, True)"
      ]
    },
    {
      "cell_type": "markdown",
      "metadata": {
        "id": "bZ4uWNVPmuMB"
      },
      "source": [
        "* **(!)** Another regex trick used above for android dataset. In `if()` condition inside for loop, we used regex with `re.IGNORECASE` flag that allow us to search for 'Free' value independently if it is correctly written or mistyped like 'free' or 'fRee' and so on "
      ]
    },
    {
      "cell_type": "markdown",
      "metadata": {
        "id": "l1gXuOBAmuMB"
      },
      "source": [
        "> ### Validation strategy for an app idea\n",
        "\n",
        "* The idea behind this is to find out the app profile that fits both App Store and Google Play.\n",
        "\n",
        "* To accomplish this we need to create a frequency table, for both datasets cleaned, and identify which genre is more popular among users.\n",
        "\n",
        "* We need inspect columns and see which one is best choice for this purpose. We can also check datasets info tables (<a href=\"#table-android\">Android</a> or <a href=\"#table-ios\">iOS</a>) to see what represents each column."
      ]
    },
    {
      "cell_type": "code",
      "execution_count": null,
      "metadata": {
        "scrolled": true,
        "id": "u05OiKOFmuMC",
        "outputId": "6780b031-7d1e-46a3-8408-7d777cfbac56"
      },
      "outputs": [
        {
          "name": "stdout",
          "output_type": "stream",
          "text": [
            "['id', 'track_name', 'size_bytes', 'currency', 'price', 'rating_count_tot', 'rating_count_ver', 'user_rating', 'user_rating_ver', 'ver', 'cont_rating', 'prime_genre', 'sup_devices.num', 'ipadSc_urls.num', 'lang.num', 'vpp_lic']\n",
            "\n",
            "\n",
            "['284882215', 'Facebook', '389879808', 'USD', '0.0', '2974676', '212', '3.5', '3.5', '95.0', '4+', 'Social Networking', '37', '1', '29', '1']\n",
            "\n",
            "\n",
            "['App', 'Category', 'Rating', 'Reviews', 'Size', 'Installs', 'Type', 'Price', 'Content Rating', 'Genres', 'Last Updated', 'Current Ver', 'Android Ver']\n",
            "\n",
            "\n",
            "['Photo Editor & Candy Camera & Grid & ScrapBook', 'ART_AND_DESIGN', '4.1', '159', '19M', '10,000+', 'Free', '0', 'Everyone', 'Art & Design', 'January 7, 2018', '1.0.0', '4.0.3 and up']\n",
            "\n",
            "\n"
          ]
        }
      ],
      "source": [
        "explore_data(ios, 0, 2, False)\n",
        "explore_data(android, 0, 2, False)"
      ]
    },
    {
      "cell_type": "markdown",
      "metadata": {
        "id": "b7G9yH74muMD"
      },
      "source": [
        "* Looking at what is printed above and datasets info tables, for iOS we can use **'prime_genre'** to check which genre is the most common among ios users and for the most common among android users we can use **'Category'**. \n",
        "\n",
        "\n",
        "* **(!)** We'll be using 'Category' at android dataset instead of 'Genre' because 'Genre' is not necessary showing the real category/genre of an app, and as info table says 'Category' is the main category/classification of an app."
      ]
    },
    {
      "cell_type": "code",
      "execution_count": null,
      "metadata": {
        "id": "QdwG8tIxmuMD"
      },
      "outputs": [],
      "source": [
        "'''\n",
        "    freq_table function is a function that takes in two parameters\n",
        "    dataset - list of lists and index - integer. The function returns\n",
        "    the frequency table (as dictionary) for any column.\n",
        "'''\n",
        "def freq_table(dataset, index, header = False):\n",
        "    f_table = {}\n",
        "    \n",
        "    # Making sure that no header is included    \n",
        "    if(header):\n",
        "        dataset = dataset[1:]\n",
        "    for app in dataset:\n",
        "        key = app[index]\n",
        "        # If exists, +1\n",
        "        if(key in f_table):\n",
        "            f_table[key] += 1\n",
        "        # Not exists, create and count 1    \n",
        "        else:\n",
        "            f_table[key] = 1\n",
        "            \n",
        "    # Transforming into percentages\n",
        "    for key in f_table:\n",
        "        f_table[key] = round(float((f_table[key]/len(dataset))*100), 2)\n",
        "        \n",
        "    return f_table\n",
        "\n",
        "'''\n",
        "    display_table takes in any dataset - list of lists and any \n",
        "    index - integer and display, in a sorted way, the frequency\n",
        "    table created by freq_table function\n",
        "'''\n",
        "def display_table(dataset, index):\n",
        "    table = freq_table(dataset, index)\n",
        "    table_display = []\n",
        "    for key in table:\n",
        "        key_val_as_tuple = (table[key], key)\n",
        "        table_display.append(key_val_as_tuple)\n",
        "\n",
        "    table_sorted = sorted(table_display, reverse = True)\n",
        "    for entry in table_sorted:\n",
        "        print(entry[1], ':', entry[0])"
      ]
    },
    {
      "cell_type": "code",
      "execution_count": null,
      "metadata": {
        "id": "0YO_vIITmuME",
        "outputId": "bfb26169-c0b4-477e-d273-00a8791775df"
      },
      "outputs": [
        {
          "name": "stdout",
          "output_type": "stream",
          "text": [
            "iOS 'prime_genre' index 11\n",
            "Android 'Category' index 1\n"
          ]
        }
      ],
      "source": [
        "print(\"iOS 'prime_genre' index\", ios[0].index('prime_genre'))\n",
        "print(\"Android 'Category' index\", android[0].index('Category'))"
      ]
    },
    {
      "cell_type": "code",
      "execution_count": null,
      "metadata": {
        "scrolled": false,
        "id": "tMA5-VG2muMF",
        "outputId": "13eb524b-9261-4931-bb00-107b931ce958"
      },
      "outputs": [
        {
          "name": "stdout",
          "output_type": "stream",
          "text": [
            "iOS Frequency Table \n",
            "\n",
            "Games : 58.23\n",
            "Entertainment : 7.84\n",
            "Photo & Video : 5.0\n",
            "Education : 3.69\n",
            "Social Networking : 3.31\n",
            "Shopping : 2.59\n",
            "Utilities : 2.47\n",
            "Sports : 2.16\n",
            "Music : 2.06\n",
            "Health & Fitness : 2.03\n",
            "Productivity : 1.75\n",
            "Lifestyle : 1.56\n",
            "News : 1.34\n",
            "Travel : 1.25\n",
            "Finance : 1.09\n",
            "Weather : 0.87\n",
            "Food & Drink : 0.81\n",
            "Reference : 0.53\n",
            "Business : 0.53\n",
            "Book : 0.37\n",
            "Navigation : 0.19\n",
            "Medical : 0.19\n",
            "Catalogs : 0.12\n"
          ]
        }
      ],
      "source": [
        "# iOS visualization of frequency table\n",
        "print('iOS Frequency Table', '\\n')\n",
        "display_table(ios_free_apps, 11)"
      ]
    },
    {
      "cell_type": "markdown",
      "metadata": {
        "id": "oPmW0vpEmuMF"
      },
      "source": [
        "> ### iOS Frequency Table Analysis\n",
        "\n",
        "* The frequency table above shows that **Games** has more than a half of presence in iOS apps (~58.23%). It means that **Games** is the most common app for iOS users but it does not mean that those apps has the greatest number of users among iOS apps. \n",
        "\n",
        "* We can see that **Games** is followed by **Entertainment** category. It has around 7.84% of presence among iOS apps. \n",
        "\n",
        "* So far we can say that for iOS apps, the most common apps that fits around 66,07% (2/3 of apps) are apps related to helping users spending their time. And this argument is reinforced by the top 2 apps category in frequency table above. Although the data is not current, nowadays we have as example for **Entertainment** category apps that are streaming platform like Netflix, Amazon Prime, Disney+ and so on. For the top-tier category, **Games**, we have famous examples like HearthStone, Pokemon Go and Clash of Clans. "
      ]
    },
    {
      "cell_type": "code",
      "execution_count": null,
      "metadata": {
        "scrolled": true,
        "id": "OgKnco5emuMG",
        "outputId": "93c7f955-bfca-4435-fa1e-e8f14a6acf0d"
      },
      "outputs": [
        {
          "name": "stdout",
          "output_type": "stream",
          "text": [
            "Android Frequency Table \n",
            "\n",
            "FAMILY : 18.97\n",
            "GAME : 9.7\n",
            "TOOLS : 8.43\n",
            "BUSINESS : 4.58\n",
            "LIFESTYLE : 3.93\n",
            "PRODUCTIVITY : 3.89\n",
            "FINANCE : 3.68\n",
            "MEDICAL : 3.52\n",
            "SPORTS : 3.38\n",
            "PERSONALIZATION : 3.31\n",
            "COMMUNICATION : 3.23\n",
            "HEALTH_AND_FITNESS : 3.07\n",
            "PHOTOGRAPHY : 2.94\n",
            "NEWS_AND_MAGAZINES : 2.83\n",
            "SOCIAL : 2.65\n",
            "TRAVEL_AND_LOCAL : 2.32\n",
            "SHOPPING : 2.25\n",
            "BOOKS_AND_REFERENCE : 2.18\n",
            "DATING : 1.85\n",
            "VIDEO_PLAYERS : 1.8\n",
            "MAPS_AND_NAVIGATION : 1.42\n",
            "FOOD_AND_DRINK : 1.24\n",
            "EDUCATION : 1.17\n",
            "ENTERTAINMENT : 0.95\n",
            "LIBRARIES_AND_DEMO : 0.93\n",
            "AUTO_AND_VEHICLES : 0.92\n",
            "HOUSE_AND_HOME : 0.82\n",
            "WEATHER : 0.8\n",
            "EVENTS : 0.71\n",
            "PARENTING : 0.65\n",
            "ART_AND_DESIGN : 0.65\n",
            "COMICS : 0.63\n",
            "BEAUTY : 0.6\n"
          ]
        }
      ],
      "source": [
        "# Android visualization of frequency table\n",
        "print('Android Frequency Table', '\\n')\n",
        "display_table(android_free_apps, 1)"
      ]
    },
    {
      "cell_type": "markdown",
      "metadata": {
        "id": "KllDcRwamuMG"
      },
      "source": [
        "* **(!)** We could have done this frequency table for android apps using also 'Genres' column but this columns references for app's secondary category. By curiosity means, let's see what 'Genres' column tell us about which genre/category is the most common among android apps."
      ]
    },
    {
      "cell_type": "code",
      "execution_count": null,
      "metadata": {
        "scrolled": false,
        "id": "250je1SgmuMG",
        "outputId": "1ebbcb5e-6f25-4e96-deb4-1ba7dc6cf60e"
      },
      "outputs": [
        {
          "name": "stdout",
          "output_type": "stream",
          "text": [
            "Android 'Genres' column 9 \n",
            "\n",
            "Android Frequency Table \n",
            "\n",
            "Tools : 8.42\n",
            "Entertainment : 6.09\n",
            "Education : 5.39\n",
            "Business : 4.58\n",
            "Lifestyle : 3.92\n",
            "Productivity : 3.89\n",
            "Finance : 3.68\n",
            "Medical : 3.52\n",
            "Sports : 3.45\n",
            "Personalization : 3.31\n",
            "Communication : 3.23\n",
            "Action : 3.09\n",
            "Health & Fitness : 3.07\n",
            "Photography : 2.94\n",
            "News & Magazines : 2.83\n",
            "Social : 2.65\n",
            "Travel & Local : 2.31\n",
            "Shopping : 2.25\n",
            "Books & Reference : 2.18\n",
            "Simulation : 2.07\n",
            "Dating : 1.85\n",
            "Arcade : 1.84\n",
            "Video Players & Editors : 1.77\n",
            "Casual : 1.75\n",
            "Maps & Navigation : 1.42\n",
            "Food & Drink : 1.24\n",
            "Puzzle : 1.12\n",
            "Racing : 0.99\n",
            "Role Playing : 0.93\n",
            "Libraries & Demo : 0.93\n",
            "Auto & Vehicles : 0.92\n",
            "Strategy : 0.91\n",
            "House & Home : 0.82\n",
            "Weather : 0.8\n",
            "Events : 0.71\n",
            "Adventure : 0.69\n",
            "Comics : 0.62\n",
            "Art & Design : 0.61\n",
            "Beauty : 0.6\n",
            "Parenting : 0.49\n",
            "Card : 0.45\n",
            "Trivia : 0.43\n",
            "Casino : 0.43\n",
            "Educational;Education : 0.39\n",
            "Board : 0.38\n",
            "Educational : 0.37\n",
            "Education;Education : 0.35\n",
            "Word : 0.26\n",
            "Casual;Pretend Play : 0.24\n",
            "Music : 0.2\n",
            "Racing;Action & Adventure : 0.17\n",
            "Puzzle;Brain Games : 0.17\n",
            "Entertainment;Music & Video : 0.17\n",
            "Casual;Brain Games : 0.13\n",
            "Casual;Action & Adventure : 0.13\n",
            "Arcade;Action & Adventure : 0.12\n",
            "Action;Action & Adventure : 0.1\n",
            "Educational;Pretend Play : 0.09\n",
            "Simulation;Action & Adventure : 0.08\n",
            "Parenting;Education : 0.08\n",
            "Entertainment;Brain Games : 0.08\n",
            "Board;Brain Games : 0.08\n",
            "Parenting;Music & Video : 0.07\n",
            "Educational;Brain Games : 0.07\n",
            "Casual;Creativity : 0.07\n",
            "Art & Design;Creativity : 0.07\n",
            "Education;Pretend Play : 0.06\n",
            "Role Playing;Pretend Play : 0.04\n",
            "Education;Creativity : 0.04\n",
            "Role Playing;Action & Adventure : 0.03\n",
            "Puzzle;Action & Adventure : 0.03\n",
            "Entertainment;Creativity : 0.03\n",
            "Entertainment;Action & Adventure : 0.03\n",
            "Educational;Creativity : 0.03\n",
            "Educational;Action & Adventure : 0.03\n",
            "Education;Music & Video : 0.03\n",
            "Education;Brain Games : 0.03\n",
            "Education;Action & Adventure : 0.03\n",
            "Adventure;Action & Adventure : 0.03\n",
            "Video Players & Editors;Music & Video : 0.02\n",
            "Sports;Action & Adventure : 0.02\n",
            "Simulation;Pretend Play : 0.02\n",
            "Puzzle;Creativity : 0.02\n",
            "Music;Music & Video : 0.02\n",
            "Entertainment;Pretend Play : 0.02\n",
            "Casual;Education : 0.02\n",
            "Board;Action & Adventure : 0.02\n",
            "Video Players & Editors;Creativity : 0.01\n",
            "Trivia;Education : 0.01\n",
            "Travel & Local;Action & Adventure : 0.01\n",
            "Tools;Education : 0.01\n",
            "Strategy;Education : 0.01\n",
            "Strategy;Creativity : 0.01\n",
            "Strategy;Action & Adventure : 0.01\n",
            "Simulation;Education : 0.01\n",
            "Role Playing;Brain Games : 0.01\n",
            "Racing;Pretend Play : 0.01\n",
            "Puzzle;Education : 0.01\n",
            "Parenting;Brain Games : 0.01\n",
            "Music & Audio;Music & Video : 0.01\n",
            "Lifestyle;Pretend Play : 0.01\n",
            "Lifestyle;Education : 0.01\n",
            "Health & Fitness;Education : 0.01\n",
            "Health & Fitness;Action & Adventure : 0.01\n",
            "Entertainment;Education : 0.01\n",
            "Communication;Creativity : 0.01\n",
            "Comics;Creativity : 0.01\n",
            "Casual;Music & Video : 0.01\n",
            "Card;Action & Adventure : 0.01\n",
            "Books & Reference;Education : 0.01\n",
            "Art & Design;Pretend Play : 0.01\n",
            "Art & Design;Action & Adventure : 0.01\n",
            "Arcade;Pretend Play : 0.01\n",
            "Adventure;Education : 0.01\n"
          ]
        }
      ],
      "source": [
        "print('Android \\'Genres\\' column', \n",
        "      android[0].index('Genres'), \n",
        "      '\\n')\n",
        "\n",
        "print('Android Frequency Table', '\\n')\n",
        "display_table(android_free_apps, 9)"
      ]
    },
    {
      "cell_type": "markdown",
      "metadata": {
        "id": "CO0V_j1pmuMG"
      },
      "source": [
        "> ### Android Frequency Table Analysis\n",
        "\n",
        "* For android dataset, we've got a balanced distribution, even looking at secondary category that is 'Genre' column.\n",
        "\n",
        "* Looking at main category, 'Category' column, we have at first position apps that are related to **'FAMILY'**. These apps related with **'FAMILY'** category are apps that can be classified as **'FAMILY-FRIEND'** and we can see it in Google documentation [FAMILY-FRIEND](https://support.google.com/googleplay/answer/6209531?hl=en). We can have several apps in this category of **FAMILY-FRIEND**, so we can't define a single pattern of apps for this category, however they should be apps that is ok for elders, middle-aged, adults, youth and children to use.\n",
        "\n",
        "* The next positions in the frequency table can give more insights about what kind of app is more common. Besides apps 'Games' at second position, that are for entertainment and have a good time, from 3rd postion until 12th position, we've got apps for self-development/personal use. We can see categories like: finance, productivity, comunication, health and these kind of stuff.\n",
        "\n",
        "* Even the 'Genre' column, that have secondary category value for apps, shows that from 3rd position until 9th position, apps for self-development/personal use are most common in Google Play, it shows values like: Education, Business, Lifestyle, Productivity, Finance, Medical and Sports.\n",
        "\n",
        "* So, looking all that android data and after this analysis, we could say that apps for entertainment and/or apps for self-improvement (Lifestyle, Productivity, Finance, Business, Education, Communication) are the most common apps in Google Play. \n"
      ]
    },
    {
      "cell_type": "markdown",
      "metadata": {
        "id": "zNThBrCumuMH"
      },
      "source": [
        "> ### Most Common Apps x Greatest Users Apps\n",
        "\n",
        "* Even though we can tell which app is more common/has more frequency in App Store or Google Play, it does not shows us the effectiveness about hitting many number of users. \n",
        "\n",
        "* We can find the number of users analysing the **'Installs'** column for android dataset but for ios we have to do some workaround and use the column **'rating_count_tot'**. (We need do this workaround because number of installations is missing for ios dataset)."
      ]
    },
    {
      "cell_type": "code",
      "execution_count": null,
      "metadata": {
        "scrolled": true,
        "id": "w5kxZ98wmuMH",
        "outputId": "30d05826-20d9-4846-fe56-7b5bc440266d"
      },
      "outputs": [
        {
          "name": "stdout",
          "output_type": "stream",
          "text": [
            "App genre: Social Networking\n",
            "Average users ratings: 3.5943396226415096\n",
            "\n",
            "\n",
            "App genre: Photo & Video\n",
            "Average users ratings: 3.903125\n",
            "\n",
            "\n",
            "App genre: Games\n",
            "Average users ratings: 4.052038626609442\n",
            "\n",
            "\n",
            "App genre: Music\n",
            "Average users ratings: 3.946969696969697\n",
            "\n",
            "\n",
            "App genre: Reference\n",
            "Average users ratings: 3.8823529411764706\n",
            "\n",
            "\n",
            "App genre: Health & Fitness\n",
            "Average users ratings: 3.769230769230769\n",
            "\n",
            "\n",
            "App genre: Weather\n",
            "Average users ratings: 3.482142857142857\n",
            "\n",
            "\n",
            "App genre: Utilities\n",
            "Average users ratings: 3.569620253164557\n",
            "\n",
            "\n",
            "App genre: Travel\n",
            "Average users ratings: 3.4875\n",
            "\n",
            "\n",
            "App genre: Shopping\n",
            "Average users ratings: 3.9759036144578315\n",
            "\n",
            "\n",
            "App genre: News\n",
            "Average users ratings: 3.244186046511628\n",
            "\n",
            "\n",
            "App genre: Navigation\n",
            "Average users ratings: 3.8333333333333335\n",
            "\n",
            "\n",
            "App genre: Lifestyle\n",
            "Average users ratings: 3.48\n",
            "\n",
            "\n",
            "App genre: Entertainment\n",
            "Average users ratings: 3.547808764940239\n",
            "\n",
            "\n",
            "App genre: Food & Drink\n",
            "Average users ratings: 3.6346153846153846\n",
            "\n",
            "\n",
            "App genre: Sports\n",
            "Average users ratings: 3.0652173913043477\n",
            "\n",
            "\n",
            "App genre: Book\n",
            "Average users ratings: 3.5833333333333335\n",
            "\n",
            "\n",
            "App genre: Finance\n",
            "Average users ratings: 3.4714285714285715\n",
            "\n",
            "\n",
            "App genre: Education\n",
            "Average users ratings: 3.635593220338983\n",
            "\n",
            "\n",
            "App genre: Productivity\n",
            "Average users ratings: 4.0\n",
            "\n",
            "\n",
            "App genre: Business\n",
            "Average users ratings: 3.9705882352941178\n",
            "\n",
            "\n",
            "App genre: Catalogs\n",
            "Average users ratings: 4.125\n",
            "\n",
            "\n",
            "App genre: Medical\n",
            "Average users ratings: 3.0\n",
            "\n",
            "\n"
          ]
        }
      ],
      "source": [
        "### iOS\n",
        "'''\n",
        "    The main idea here is for each key (app's genre) in freq_table\n",
        "    we should account for each app in ios-free-english apps\n",
        "    that is the same genre the total ratings (total) and \n",
        "    increment by 1 length of genre (len_genre). \n",
        "    After iterating all apps, we calculate the average \n",
        "    rating dividing total ratings by length of genre. \n",
        "'''\n",
        "ios_freq_table = freq_table(ios_free_apps,  11)\n",
        "\n",
        "for key_genre in ios_freq_table:\n",
        "    total = 0\n",
        "    len_genre = 0\n",
        "    \n",
        "    for app in ios_free_apps:\n",
        "        genre_app = app[11]\n",
        "        \n",
        "        if(genre_app == key_genre):\n",
        "            total += float(app[7])\n",
        "            len_genre += 1\n",
        "            \n",
        "    avg = total/len_genre        \n",
        "    print('App genre:', key_genre)\n",
        "    print('Average users ratings:', avg)\n",
        "    print('\\n')"
      ]
    },
    {
      "cell_type": "markdown",
      "metadata": {
        "id": "u7tl3XD1muMH"
      },
      "source": [
        "> # Some Conclusions - iOS\n",
        "\n",
        "Catalogs apps have the highest average rating but they are the least frequent apps. Games have the second highest average rating and they are the most frequent apps, so we could assume that for App Store, iOS users, focusing on apps games would be the best option for in-apps adds. "
      ]
    },
    {
      "cell_type": "code",
      "execution_count": null,
      "metadata": {
        "id": "WAN9_T_XmuMI",
        "outputId": "5f3c8b6c-256a-466a-b3d4-c648ec74b55d"
      },
      "outputs": [
        {
          "name": "stdout",
          "output_type": "stream",
          "text": [
            "App genre: ART_AND_DESIGN\n",
            "Average users installs: 1952105.17\n",
            "\n",
            "\n",
            "App genre: AUTO_AND_VEHICLES\n",
            "Average users installs: 647317.82\n",
            "\n",
            "\n",
            "App genre: BEAUTY\n",
            "Average users installs: 513151.89\n",
            "\n",
            "\n",
            "App genre: BOOKS_AND_REFERENCE\n",
            "Average users installs: 8587351.86\n",
            "\n",
            "\n",
            "App genre: BUSINESS\n",
            "Average users installs: 1708215.91\n",
            "\n",
            "\n",
            "App genre: COMICS\n",
            "Average users installs: 803234.82\n",
            "\n",
            "\n",
            "App genre: COMMUNICATION\n",
            "Average users installs: 38322625.7\n",
            "\n",
            "\n",
            "App genre: DATING\n",
            "Average users installs: 854028.83\n",
            "\n",
            "\n",
            "App genre: EDUCATION\n",
            "Average users installs: 1825480.77\n",
            "\n",
            "\n",
            "App genre: ENTERTAINMENT\n",
            "Average users installs: 11640705.88\n",
            "\n",
            "\n",
            "App genre: EVENTS\n",
            "Average users installs: 253542.22\n",
            "\n",
            "\n",
            "App genre: FINANCE\n",
            "Average users installs: 1387692.48\n",
            "\n",
            "\n",
            "App genre: FOOD_AND_DRINK\n",
            "Average users installs: 1924897.74\n",
            "\n",
            "\n",
            "App genre: HEALTH_AND_FITNESS\n",
            "Average users installs: 4188821.99\n",
            "\n",
            "\n",
            "App genre: HOUSE_AND_HOME\n",
            "Average users installs: 1331540.56\n",
            "\n",
            "\n",
            "App genre: LIBRARIES_AND_DEMO\n",
            "Average users installs: 638503.73\n",
            "\n",
            "\n",
            "App genre: LIFESTYLE\n",
            "Average users installs: 1436126.94\n",
            "\n",
            "\n",
            "App genre: GAME\n",
            "Average users installs: 15551995.89\n",
            "\n",
            "\n",
            "App genre: FAMILY\n",
            "Average users installs: 3671043.04\n",
            "\n",
            "\n",
            "App genre: MEDICAL\n",
            "Average users installs: 120550.62\n",
            "\n",
            "\n",
            "App genre: SOCIAL\n",
            "Average users installs: 23253652.13\n",
            "\n",
            "\n",
            "App genre: SHOPPING\n",
            "Average users installs: 7001693.42\n",
            "\n",
            "\n",
            "App genre: PHOTOGRAPHY\n",
            "Average users installs: 17772018.76\n",
            "\n",
            "\n",
            "App genre: SPORTS\n",
            "Average users installs: 3638640.14\n",
            "\n",
            "\n",
            "App genre: TRAVEL_AND_LOCAL\n",
            "Average users installs: 13984077.71\n",
            "\n",
            "\n",
            "App genre: TOOLS\n",
            "Average users installs: 10787009.95\n",
            "\n",
            "\n",
            "App genre: PERSONALIZATION\n",
            "Average users installs: 5183850.81\n",
            "\n",
            "\n",
            "App genre: PRODUCTIVITY\n",
            "Average users installs: 16738957.55\n",
            "\n",
            "\n",
            "App genre: PARENTING\n",
            "Average users installs: 542603.62\n",
            "\n",
            "\n",
            "App genre: WEATHER\n",
            "Average users installs: 5074486.2\n",
            "\n",
            "\n",
            "App genre: VIDEO_PLAYERS\n",
            "Average users installs: 24573948.25\n",
            "\n",
            "\n",
            "App genre: NEWS_AND_MAGAZINES\n",
            "Average users installs: 9401635.95\n",
            "\n",
            "\n",
            "App genre: MAPS_AND_NAVIGATION\n",
            "Average users installs: 3993339.6\n",
            "\n",
            "\n"
          ]
        }
      ],
      "source": [
        "#print(android[0])\n",
        "android_freq_table = freq_table(android_free_apps, 1)\n",
        "\n",
        "'''\n",
        "    Before diving into code to account how many install an app's\n",
        "    genre has, we should be aware of Intalls column values. \n",
        "    It has values acting like symbolic intervals, so we can see \n",
        "    values like 1,000,000+; 100,000+, 500+... We can't specifically \n",
        "    determine which value belongs to each genre, so we should \n",
        "    consider these symbolic values and and treat them to \n",
        "    remove special characters(+).\n",
        "'''\n",
        "for key_catg in android_freq_table:\n",
        "    total_inst = 0\n",
        "    len_genre = 0\n",
        "    \n",
        "    for app in android_free_apps:\n",
        "        if(key_catg == app[1]):\n",
        "            install = app[5].replace(\"+\", \"\")\n",
        "            install = install.replace(\",\", '')\n",
        "            \n",
        "            \n",
        "            total_inst += float(install)\n",
        "            len_genre += 1\n",
        "            \n",
        "    avg = total_inst/len_genre\n",
        "    \n",
        "    # Rounding 2 decimal points\n",
        "    avg = round(avg, 2)\n",
        "    \n",
        "    \n",
        "    print('App genre:', key_catg)\n",
        "    print('Average users installs:', avg)\n",
        "    print('\\n')"
      ]
    },
    {
      "cell_type": "markdown",
      "metadata": {
        "id": "l8w4M0MdmuMI"
      },
      "source": [
        "> # Some conclusions - Android\n",
        "\n",
        "* Analysing data by number of installations show us a new and different perspective of apps that could reach more number of users. We've got 9 category apps that has 10,000,000+ installs:\n",
        "\n",
        "1) App genre: COMMUNICATION\n",
        "   Average users installs: 38,322,625.7\n",
        "\n",
        "2) App genre: VIDEO_PLAYERS\n",
        "   Average users installs: 24,573,948.25\n",
        "\n",
        "3) App genre: SOCIAL\n",
        "   Average users installs: 23,253,652.13\n",
        "\n",
        "4) App genre: PHOTOGRAPHY\n",
        "   Average users installs: 17,772,018.76\n",
        "\n",
        "5) App genre: PRODUCTIVITY\n",
        "   Average users installs: 16,738,957.55\n",
        "\n",
        "6) App genre: GAME\n",
        "   Average users installs: 15,551,995.89\n",
        "\n",
        "7) App genre: TRAVEL_AND_LOCAL\n",
        "   Average users installs: 13,984,077.71\n",
        "\n",
        "8) App genre: ENTERTAINMENT\n",
        "   Average users installs: 11,640,705.88\n",
        "\n",
        "9) App genre: TOOLS\n",
        "   Average users installs: 10,787,009.95\n",
        "   \n",
        "  The sum of these nine categories represents something around 172.624.986 installs. As a meaning of comparisons, this number overpass the Germany and UK population combined ([Countries population](https://pt.wikipedia.org/wiki/Lista_de_pa%C3%ADses_por_popula%C3%A7%C3%A3o)).\n",
        "  \n",
        "  So if focusing on android apps, our efforts for in-apps adds could be directed for apps linked to Entertainment (VIDEO-PLAYERS, PHOTOGRAPHY, GAMES, ENTERTAINMENT) or for apps linked to self-improvement/development (COMMUNICATION, PRODUCTIVITY). As an audacious step, aiming users from Entertainment and self-improvement/development, the efforts could be directed for social apps, and this category is also the third with the most number of users. Social apps help users to get entertained and also help them to improve their communication and sociability."
      ]
    }
  ],
  "metadata": {
    "kernelspec": {
      "display_name": "Python 3",
      "language": "python",
      "name": "python3"
    },
    "language_info": {
      "codemirror_mode": {
        "name": "ipython",
        "version": 3
      },
      "file_extension": ".py",
      "mimetype": "text/x-python",
      "name": "python",
      "nbconvert_exporter": "python",
      "pygments_lexer": "ipython3",
      "version": "3.7.3"
    },
    "colab": {
      "name": "profitable_app_profile.ipynb",
      "provenance": []
    }
  },
  "nbformat": 4,
  "nbformat_minor": 0
}